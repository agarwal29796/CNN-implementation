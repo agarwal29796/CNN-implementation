{
 "cells": [
  {
   "cell_type": "markdown",
   "metadata": {},
   "source": [
    "#  Assignment - 06 \n",
    "submitted by : <br>\n",
    "Archit Kumar <br>\n",
    "2018201051"
   ]
  },
  {
   "cell_type": "markdown",
   "metadata": {},
   "source": [
    "### some required function "
   ]
  },
  {
   "cell_type": "code",
   "execution_count": 1,
   "metadata": {},
   "outputs": [],
   "source": [
    "import numpy as np\n",
    "import matplotlib.pyplot as plt\n",
    "import pandas as pd\n",
    "import cv2\n",
    "np.random.seed(1)\n"
   ]
  },
  {
   "cell_type": "code",
   "execution_count": 2,
   "metadata": {},
   "outputs": [],
   "source": [
    "np.random.seed(1)\n",
    "class convLayer():\n",
    "    def __init__ (self,filter_size, number_of_filters ,stride,pad = 0 , pad_value = 0 , activation = \"tanh\") :\n",
    "        self.p = pad_value\n",
    "        self.pad = pad\n",
    "        self.f = filter_size\n",
    "        self.n_C = number_of_filters\n",
    "        self.stride = stride\n",
    "        self.W = None\n",
    "        self.b = None\n",
    "        self.activation = activation\n",
    "    def padding(self , X):\n",
    "        return np.pad(X, ((0,0), (self.pad , self.pad) , (self.pad , self.pad) , (0,0)) , 'constant' , constant_values = (self.p , self.p))\n",
    "    \n",
    "    def conv_single_step(self , a ,w , b):\n",
    "        temp = np.sum(a*w)\n",
    "        return temp + float(np.asscalar(b))\n",
    "    \n",
    "    def activate(self , Z):\n",
    "        if self.activation == \"tanh\" :\n",
    "            return np.tanh(Z)\n",
    "        elif self.activation == \"sigmoid\" :\n",
    "            return 1./(1+np.exp(-Z))\n",
    "        elif self.actvation == \"relu\":\n",
    "            return np.where(Z >= 0 , Z , 0)\n",
    "        \n",
    "        \n",
    "    \n",
    "    def fit(self , X):\n",
    "        '''\n",
    "        X is (m , n_H , n_W , n_C_img)\n",
    "        m = no of examples \n",
    "        '''\n",
    "        if self.pad > 0 :\n",
    "            X = self.padding(X)\n",
    "        m , n_H_prev , n_W_prev, n_Cprev = X.shape\n",
    "        self.W = np.random.randn(self.f,self.f, n_Cprev, self.n_C)\n",
    "        self.b = np.random.randn(1,1,1,self.n_C)\n",
    "        f  = self.f\n",
    "        n_C = self.n_C\n",
    "        stride = self.stride\n",
    "        \n",
    "        n_H = int((n_H_prev  - f )/stride) + 1\n",
    "        n_W = int((n_W_prev -f )/stride) + 1\n",
    "\n",
    "\n",
    "        Z = np.zeros((m,n_H,  n_W ,n_C))\n",
    "        for i in range(m):\n",
    "            for h in range(n_H):\n",
    "                for w in range(n_W):\n",
    "                    for c in range(n_C):\n",
    "                        vert_s = h*stride\n",
    "                        vert_end = h*stride + f\n",
    "                        horiz_s=  w*stride\n",
    "                        horiz_end = w*stride + f\n",
    "                        a_slice = X[i,vert_s:vert_end, horiz_s:horiz_end ,:]\n",
    "                        Z[i , h , w, c] = self.conv_single_step(a_slice , self.W[:,:,:,c] , self.b[:,:,:,c])\n",
    "        return self.activate(Z)\n",
    "        \n",
    "        "
   ]
  },
  {
   "cell_type": "code",
   "execution_count": 3,
   "metadata": {},
   "outputs": [],
   "source": [
    "class pooling():\n",
    "    def __init__(self,filter_size ,stride, pooling_type = \"max\"):\n",
    "        self.f = filter_size\n",
    "        self.stride = stride\n",
    "        self.pooling_type = pooling_type\n",
    "        \n",
    "    def fit(self , X):\n",
    "        m , n_H_prev, n_W_prev ,n_C_prev = X.shape\n",
    "        n_H  = int(1 + (n_H_prev - self.f)/self.stride)\n",
    "        n_W =  int(1 + (n_W_prev - self.f)/self.stride)\n",
    "        n_C = n_C_prev\n",
    "        Z = np.zeros((m,n_H , n_W ,n_C))\n",
    "        \n",
    "        for i in range(m):\n",
    "            for h in range(n_H):\n",
    "                for w in range(n_W):\n",
    "                    for c in range(n_C):\n",
    "                        ver_start = self.stride*h\n",
    "                        ver_end = self.stride*h + self.f\n",
    "                        horiz_start = self.stride*w \n",
    "                        horiz_end = self.stride*w + self.f\n",
    "                        \n",
    "                        a_slice = X[i,ver_start : ver_end , horiz_start : horiz_end , c]\n",
    "                        if self.pooling_type == \"max\":\n",
    "                            Z[i, h ,w, c] = np.max(a_slice)\n",
    "                        elif self.pooling_type == \"avg\":\n",
    "                            Z[i ,  h ,  w ,c] = np.mean(a_slice)\n",
    "        return Z\n",
    "                            \n",
    "                        \n",
    "        "
   ]
  },
  {
   "cell_type": "code",
   "execution_count": 4,
   "metadata": {},
   "outputs": [],
   "source": [
    "class full_layer():\n",
    "    def __init__ (self, nodes,nodes_preLayer ,activation = \"sigmoid\") :\n",
    "        self.W = np.random.randn(nodes, nodes_preLayer)\n",
    "        self.b = np.random.randn(nodes ,1)\n",
    "        self.activation = activation\n",
    "        \n",
    "    def fit(self, X):\n",
    "        Z = np.dot(self.W , X.T) + self.b\n",
    "        if self.activation == \"relu\" :\n",
    "            Z =  np.where(Z >= 0 , Z , 0)\n",
    "        elif self.activation == \"tanh\" :\n",
    "            Z = np.tanh(Z)\n",
    "        elif self.activation == \"sigmoid\":\n",
    "            Z = 1./(1 + np.exp(-Z))\n",
    "        elif self.activation == \"softmax\" :\n",
    "            temp = np.exp(Z)\n",
    "            temp1 = np.sum(temp , axis = 0)\n",
    "            Z = np.divide(temp , temp1 , dtype = \"float\")\n",
    "        return Z\n",
    "    \n",
    "            \n",
    "            \n",
    "        "
   ]
  },
  {
   "cell_type": "markdown",
   "metadata": {},
   "source": [
    "## Question 1 :    LENET 5 forward Pass"
   ]
  },
  {
   "cell_type": "markdown",
   "metadata": {},
   "source": [
    "<img src = \"lenet2.jpg\" style = \"width : 500px ; height : 300px\">\n",
    "<img src = \"lenet.png\">\n"
   ]
  },
  {
   "cell_type": "markdown",
   "metadata": {},
   "source": [
    "###  SAMPLE INPUT DATA "
   ]
  },
  {
   "cell_type": "code",
   "execution_count": 38,
   "metadata": {},
   "outputs": [
    {
     "data": {
      "image/png": "[encoded data removed]",
      "text/plain": [
       "<Figure size 432x288 with 10 Axes>"
      ]
     },
     "metadata": {
      "needs_background": "light"
     },
     "output_type": "display_data"
    },
    {
     "name": "stdout",
     "output_type": "stream",
     "text": [
      "Input array dimensions\n",
      "(10, 32, 32, 1)\n"
     ]
    }
   ],
   "source": [
    "X = []\n",
    "fig ,axes = plt.subplots(1, 10 , sharex = True , sharey = True)\n",
    "for i in range(10):\n",
    "    img = cv2.imread(\"imgs/\" +str(i) +\".jpg\" , 0)\n",
    "    img = cv2.resize(img , (32,32))\n",
    "    axes[i].imshow(img)\n",
    "    img = img.reshape(img.shape[0] , img.shape[1] , 1)\n",
    "    X.append(img.copy())\n",
    "\n",
    "plt.show()\n",
    "X  = np.array(X)\n",
    "print(\"Input array dimensions\")\n",
    "print(X.shape)"
   ]
  },
  {
   "cell_type": "markdown",
   "metadata": {},
   "source": [
    "### C1 :  Convolution\n",
    "#### Input : 10 * 32 * 32 * 1 ,   filter : 6 @ 5 * 5  * 1 , stride  :  1 ,  output  :  10 * 28 * 28 * 6     , activation : tanh"
   ]
  },
  {
   "cell_type": "code",
   "execution_count": 6,
   "metadata": {
    "scrolled": true
   },
   "outputs": [
    {
     "name": "stdout",
     "output_type": "stream",
     "text": [
      "(10, 28, 28, 6)\n"
     ]
    }
   ],
   "source": [
    "c1 = convLayer(5,6,1)\n",
    "Z1 = c1.fit(X)\n",
    "print(Z1.shape)"
   ]
  },
  {
   "cell_type": "code",
   "execution_count": 37,
   "metadata": {},
   "outputs": [
    {
     "data": {
      "image/png": "[encoded data removed]",
      "text/plain": [
       "<Figure size 432x288 with 18 Axes>"
      ]
     },
     "metadata": {
      "needs_background": "light"
     },
     "output_type": "display_data"
    }
   ],
   "source": [
    "fig ,axes = plt.subplots(3, 6 , sharex = True , sharey = True)\n",
    "for i in range(3):\n",
    "    for j in range(6):\n",
    "        axes[i,j].imshow(Z1[i,:,:,j])\n",
    "plt.show()"
   ]
  },
  {
   "cell_type": "markdown",
   "metadata": {},
   "source": [
    "### S2 : Max Pooling \n",
    "#### Input : 10 * 28 * 28 * 6  , filter : 2 * 2 , stride : 2 ,  output : 10 * 14 * 14  * 6    "
   ]
  },
  {
   "cell_type": "code",
   "execution_count": 9,
   "metadata": {},
   "outputs": [
    {
     "name": "stdout",
     "output_type": "stream",
     "text": [
      "(10, 14, 14, 6)\n"
     ]
    }
   ],
   "source": [
    "s2 = pooling(2, 2, \"max\")\n",
    "Z2 = s2.fit(Z1)\n",
    "print(Z2.shape)"
   ]
  },
  {
   "cell_type": "code",
   "execution_count": 11,
   "metadata": {},
   "outputs": [
    {
     "data": {
      "image/png": "[encoded data removed]",
      "text/plain": [
       "<Figure size 432x288 with 18 Axes>"
      ]
     },
     "metadata": {
      "needs_background": "light"
     },
     "output_type": "display_data"
    }
   ],
   "source": [
    "fig ,axes = plt.subplots(3,6)\n",
    "for i in range(3):\n",
    "    for j in range(6):\n",
    "        axes[i,j].imshow(Z2[i,:,:,j])\n",
    "plt.show()"
   ]
  },
  {
   "cell_type": "markdown",
   "metadata": {},
   "source": [
    "###  C3 : Convolution\n",
    "#### Input : 10 * 14 * 14 * 6 , Filter : 16 @  5 * 5 * 6  , Stride : 1 , Output : 10 * 10 * 10 * 16  , actvation : tanh"
   ]
  },
  {
   "cell_type": "code",
   "execution_count": 13,
   "metadata": {},
   "outputs": [
    {
     "name": "stdout",
     "output_type": "stream",
     "text": [
      "(10, 10, 10, 16)\n"
     ]
    }
   ],
   "source": [
    "c3 = convLayer(5,16,1)\n",
    "Z3 = c3.fit(Z2)\n",
    "print(Z3.shape)"
   ]
  },
  {
   "cell_type": "code",
   "execution_count": 36,
   "metadata": {},
   "outputs": [
    {
     "data": {
      "image/png": "[encoded data removed]",
      "text/plain": [
       "<Figure size 432x288 with 18 Axes>"
      ]
     },
     "metadata": {
      "needs_background": "light"
     },
     "output_type": "display_data"
    }
   ],
   "source": [
    "fig ,axes = plt.subplots(3, 6 , sharex = True , sharey = True)\n",
    "for i in range(3):\n",
    "    for j in range(6):\n",
    "        axes[i,j].imshow(Z3[i,:,:,j])\n",
    "plt.show()"
   ]
  },
  {
   "cell_type": "markdown",
   "metadata": {},
   "source": [
    "### S4 : Max Pooling\n",
    "#### Input : 10 * 10 * 10 *  16 , Filter : 2 * 2 , Stride : 2 , Output : 10 * 5 * 5 * 16 "
   ]
  },
  {
   "cell_type": "code",
   "execution_count": 17,
   "metadata": {},
   "outputs": [
    {
     "name": "stdout",
     "output_type": "stream",
     "text": [
      "(10, 5, 5, 16)\n"
     ]
    }
   ],
   "source": [
    "s4 = pooling(2,2,\"avg\")\n",
    "Z4 = s4.fit(Z3)\n",
    "print(Z4.shape)"
   ]
  },
  {
   "cell_type": "code",
   "execution_count": 35,
   "metadata": {},
   "outputs": [
    {
     "data": {
      "image/png": "[encoded data removed]",
      "text/plain": [
       "<Figure size 432x288 with 18 Axes>"
      ]
     },
     "metadata": {
      "needs_background": "light"
     },
     "output_type": "display_data"
    }
   ],
   "source": [
    "fig ,axes = plt.subplots(3, 6 , sharex = True , sharey = True)\n",
    "for i in range(3):\n",
    "    for j in range(6):\n",
    "        axes[i,j].imshow(Z4[i,:,:,j])\n",
    "plt.show()"
   ]
  },
  {
   "cell_type": "markdown",
   "metadata": {},
   "source": [
    "### C5 : Convolution \n",
    "#### Input : 10 * 5 * 5 * 16 , Filter : 120 @ 5 * 5 * 16 , Stride : 1 , Output : 10 * 1 * 1 * 120 , activation : sigmoid"
   ]
  },
  {
   "cell_type": "code",
   "execution_count": 33,
   "metadata": {},
   "outputs": [
    {
     "name": "stdout",
     "output_type": "stream",
     "text": [
      "(10, 1, 1, 120)\n"
     ]
    }
   ],
   "source": [
    "c5 = convLayer(5,120,1 , activation  =\"sigmoid\")\n",
    "Z5 = c5.fit(Z4)\n",
    "print(Z5.shape)"
   ]
  },
  {
   "cell_type": "code",
   "execution_count": 34,
   "metadata": {},
   "outputs": [
    {
     "data": {
      "image/png": "[encoded data removed]",
      "text/plain": [
       "<Figure size 432x288 with 18 Axes>"
      ]
     },
     "metadata": {
      "needs_background": "light"
     },
     "output_type": "display_data"
    }
   ],
   "source": [
    "fig ,axes = plt.subplots(3, 6 , sharex = True , sharey = True)\n",
    "for i in range(3):\n",
    "    for j in range(6):\n",
    "        axes[i,j].imshow(Z5[i,:,:,j])\n",
    "plt.show()"
   ]
  },
  {
   "cell_type": "markdown",
   "metadata": {},
   "source": [
    "###  F6 : Full Connection \n",
    "#### Input : 10 * 1 * 1 * 120  ---(reshaped)----> 10 * 120 , NO of Nodes : 84 , Output : 84 * 10 , activation :  tanh  "
   ]
  },
  {
   "cell_type": "code",
   "execution_count": 26,
   "metadata": {},
   "outputs": [
    {
     "name": "stdout",
     "output_type": "stream",
     "text": [
      "new shape of Z5 :  (10, 120)\n",
      "Output Shape :  (84, 10)\n"
     ]
    }
   ],
   "source": [
    "Z5 = Z5.reshape(Z5.shape[0] , Z5.shape[1]*Z5.shape[2]*Z5.shape[3])\n",
    "print(\"new shape of Z5 : \" , Z5.shape)\n",
    "F6 = full_layer(84, Z5.shape[1] , \"tanh\")\n",
    "Z6 = F6.fit(Z5)\n",
    "print(\"Output Shape : \"  , Z6.shape)"
   ]
  },
  {
   "cell_type": "markdown",
   "metadata": {},
   "source": [
    "###  F7 : Full Connection \n",
    "#### Input : 84 * 10  , No of Nodes : 10 , Output : 10 * 10 , activation : softmax "
   ]
  },
  {
   "cell_type": "code",
   "execution_count": 25,
   "metadata": {},
   "outputs": [
    {
     "name": "stdout",
     "output_type": "stream",
     "text": [
      "Output shape :  (10, 10)\n"
     ]
    }
   ],
   "source": [
    "F7 = full_layer(10 , Z6.shape[0] , \"softmax\")\n",
    "Z7 = F7.fit(Z6.T)\n",
    "print(\"Output shape : \" ,  Z7.shape)"
   ]
  },
  {
   "cell_type": "markdown",
   "metadata": {},
   "source": [
    "##  Question 2 :"
   ]
  },
  {
   "cell_type": "markdown",
   "metadata": {},
   "source": [
    "### 1.  No of parameters in 1st convolution layer  "
   ]
  },
  {
   "cell_type": "markdown",
   "metadata": {},
   "source": [
    " = ( filter size )$^2 * $ no of channels in input $ * $ no of filters $ + $ no of filters ( no of base )  "
   ]
  },
  {
   "cell_type": "markdown",
   "metadata": {},
   "source": [
    "### 2. No of parameters in pooling operation  "
   ]
  },
  {
   "cell_type": "markdown",
   "metadata": {},
   "source": [
    "\n",
    "= 0 (only filter dimensions are required ) "
   ]
  },
  {
   "cell_type": "markdown",
   "metadata": {},
   "source": [
    "### 3. No of parameters  "
   ]
  },
  {
   "cell_type": "markdown",
   "metadata": {},
   "source": [
    "Activtion Functions = Pooling layer < Convolution Layer < Fully Connected Layer  "
   ]
  },
  {
   "cell_type": "markdown",
   "metadata": {},
   "source": [
    "### 4. Memory Consumption  "
   ]
  },
  {
   "cell_type": "markdown",
   "metadata": {},
   "source": [
    "in general : <br>\n",
    "convolution Layers < Fully Connected Layers <br>\n",
    "but in some cases : (ex : starting conv layers , ending fully connected layers)<br>\n",
    "convolution Layers > Fully Connected Layers"
   ]
  }
 ],
 "metadata": {
  "kernelspec": {
   "display_name": "mykernel",
   "language": "python",
   "name": "mykernel"
  },
  "language_info": {
   "codemirror_mode": {
    "name": "ipython",
    "version": 2
   },
   "file_extension": ".py",
   "mimetype": "text/x-python",
   "name": "python",
   "nbconvert_exporter": "python",
   "pygments_lexer": "ipython2",
   "version": "2.7.15"
  }
 },
 "nbformat": 4,
 "nbformat_minor": 2
}
